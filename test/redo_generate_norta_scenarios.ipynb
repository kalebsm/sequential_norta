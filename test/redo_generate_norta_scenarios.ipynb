{
 "cells": [
  {
   "cell_type": "code",
   "execution_count": 65,
   "id": "1f18bbf7",
   "metadata": {},
   "outputs": [],
   "source": [
    "using Revise\n",
    "using Dates\n",
    "using Distributions\n",
    "using Random\n",
    "using DataFrames\n",
    "using CSV\n",
    "using Plots\n",
    "using StatsBase\n",
    "using LinearAlgebra\n",
    "using Statistics\n",
    "import Pkg\n",
    "Pkg.activate(\"..\")\n",
    "Pkg.instantiate()\n",
    "\n",
    "using SequentialNorta"
   ]
  },
  {
   "cell_type": "code",
   "execution_count": 66,
   "id": "f552ffc8",
   "metadata": {},
   "outputs": [
    {
     "data": {
      "text/plain": [
       "Dict{Any, Any} with 29 entries:\n",
       "  \"solar_actual_avg_cf\"         => [0.0, 0.0, 0.0, 0.0, 0.0, 0.0, 0.0, 0.010627…\n",
       "  \"lp_wind\"                     => [0.606061 0.707071 … 0.818182 0.99; 0.888889…\n",
       "  \"wind_marginals_by_issue\"     => DataFrame[\u001b[1m48×103 DataFrame\u001b[0m\u001b[0m…\n",
       "  \"load_landing_probabilities\"  => [0.888889, 0.585859, 0.545455, 0.505051, 0.2…\n",
       "  \"solar_actual_avg\"            => \u001b[1m8760×2 DataFrame\u001b[0m\u001b[0m…\n",
       "  \"lp_load\"                     => [0.888889 0.585859 … 0.939394 0.919192; 0.74…\n",
       "  \"solar_well_defined_cols\"     => [7, 8, 9, 10, 11, 12, 13, 14, 15, 16  …  35,…\n",
       "  \"solar_model_data\"            => \u001b[1m8736×2 DataFrame\u001b[0m\u001b[0m…\n",
       "  \"load_marginals_by_issue\"     => DataFrame[\u001b[1m48×103 DataFrame\u001b[0m\u001b[0m…\n",
       "  \"unique_forecast_times\"       => [DateTime(\"2018-01-01T00:00:00\"), DateTime(\"…\n",
       "  \"M_load\"                      => [1.0 0.0 … 0.0 0.0; 0.860519 0.509419 … 0.0 …\n",
       "  \"solar_landing_probabilities\" => [0.99, 0.99, 0.99, 0.99, 0.99, 0.99, 0.99, 0…\n",
       "  \"forecast_scenario_length\"    => 48\n",
       "  \"wind_landing_probabilities\"  => [0.606061, 0.707071, 0.868687, 0.636364, 0.8…\n",
       "  \"load_actual_avg\"             => \u001b[1m8760×2 DataFrame\u001b[0m\u001b[0m…\n",
       "  \"corr_forecast_issue_times\"   => \u001b[1m17424×2 DataFrame\u001b[0m\u001b[0m…\n",
       "  \"unique_issue_times\"          => [DateTime(\"2017-12-31T12:00:00\"), DateTime(\"…\n",
       "  \"M_solar\"                     => [1.0 0.0 … 0.0 0.0; 0.238126 0.971234 … 0.0 …\n",
       "  \"start_date\"                  => DateTime(\"2018-01-01T00:00:00\")\n",
       "  ⋮                             => ⋮"
      ]
     },
     "metadata": {},
     "output_type": "display_data"
    }
   ],
   "source": [
    "scen_generator = scenario_generator_init()"
   ]
  },
  {
   "cell_type": "code",
   "execution_count": 67,
   "id": "7b92804c",
   "metadata": {},
   "outputs": [],
   "source": [
    "# Save the objects from scen_generator into individual variables\n",
    "unique_forecast_times = scen_generator[\"unique_forecast_times\"]\n",
    "unique_issue_times = scen_generator[\"unique_issue_times\"]\n",
    "start_date = scen_generator[\"start_date\"]\n",
    "corr_forecast_issue_times = scen_generator[\"corr_forecast_issue_times\"]\n",
    "forecast_scenario_length = scen_generator[\"forecast_scenario_length\"]\n",
    "number_of_scenarios = scen_generator[\"number_of_scenarios\"]\n",
    "solar_model_data = scen_generator[\"solar_model_data\"]\n",
    "M_load = scen_generator[\"M_load\"]\n",
    "M_solar = scen_generator[\"M_solar\"]\n",
    "M_wind = scen_generator[\"M_wind\"]\n",
    "lp_solar = scen_generator[\"lp_solar\"]\n",
    "load_marginals_by_issue = scen_generator[\"load_marginals_by_issue\"]\n",
    "solar_marginals_by_issue = scen_generator[\"solar_marginals_by_issue\"]\n",
    "wind_marginals_by_issue = scen_generator[\"wind_marginals_by_issue\"]\n",
    "load_landing_probabilities = scen_generator[\"load_landing_probabilities\"]\n",
    "solar_landing_probabilities = scen_generator[\"solar_landing_probabilities\"]\n",
    "wind_landing_probabilities = scen_generator[\"wind_landing_probabilities\"]\n",
    "load_actual_avg = scen_generator[\"load_actual_avg\"]\n",
    "solar_actual_avg = scen_generator[\"solar_actual_avg\"]\n",
    "wind_actual_avg = scen_generator[\"wind_actual_avg\"]\n",
    "solar_well_defined_cols = scen_generator[\"solar_well_defined_cols\"]\n",
    "solar_issue_decn_time_matrix = scen_generator[\"solar_issue_decn_time_matrix\"]\n",
    "load_actual_avg_GW = scen_generator[\"load_actual_avg_GW\"]\n",
    "solar_actual_avg_cf = scen_generator[\"solar_actual_avg_cf\"]\n",
    "wind_actual_avg_cf = scen_generator[\"wind_actual_avg_cf\"]\n",
    "decision_mdl_lkd_length = scen_generator[\"decision_mdl_lkd_length\"];"
   ]
  },
  {
   "cell_type": "code",
   "execution_count": 68,
   "id": "b7d41839",
   "metadata": {},
   "outputs": [],
   "source": [
    "# Set the date and time for the forecasts\n",
    "start_index = findfirst(isequal(start_date), unique_forecast_times)\n",
    "\n",
    "Tstart = start_index;\n",
    "Tend = decision_mdl_lkd_length - 50; # should be -48 probablys\n",
    "\n",
    "# Initialize Locked Scenario Path Information\n",
    "scen_path = Array{Any}(undef, Tend)\n",
    "\n",
    "Random.seed!(12345);\n",
    "# intialize normal distribution\n",
    "normal_dist = Normal(0,1);"
   ]
  },
  {
   "cell_type": "code",
   "execution_count": 69,
   "id": "102a902d",
   "metadata": {},
   "outputs": [
    {
     "data": {
      "text/plain": [
       "8686×20 Matrix{Matrix{Float64}}:\n",
       " #undef  #undef  #undef  #undef  #undef  …  #undef  #undef  #undef  #undef\n",
       " #undef  #undef  #undef  #undef  #undef     #undef  #undef  #undef  #undef\n",
       " #undef  #undef  #undef  #undef  #undef     #undef  #undef  #undef  #undef\n",
       " #undef  #undef  #undef  #undef  #undef     #undef  #undef  #undef  #undef\n",
       " #undef  #undef  #undef  #undef  #undef     #undef  #undef  #undef  #undef\n",
       " #undef  #undef  #undef  #undef  #undef  …  #undef  #undef  #undef  #undef\n",
       " #undef  #undef  #undef  #undef  #undef     #undef  #undef  #undef  #undef\n",
       " #undef  #undef  #undef  #undef  #undef     #undef  #undef  #undef  #undef\n",
       " #undef  #undef  #undef  #undef  #undef     #undef  #undef  #undef  #undef\n",
       " #undef  #undef  #undef  #undef  #undef     #undef  #undef  #undef  #undef\n",
       "   ⋮                                     ⋱                          \n",
       " #undef  #undef  #undef  #undef  #undef     #undef  #undef  #undef  #undef\n",
       " #undef  #undef  #undef  #undef  #undef     #undef  #undef  #undef  #undef\n",
       " #undef  #undef  #undef  #undef  #undef     #undef  #undef  #undef  #undef\n",
       " #undef  #undef  #undef  #undef  #undef  …  #undef  #undef  #undef  #undef\n",
       " #undef  #undef  #undef  #undef  #undef     #undef  #undef  #undef  #undef\n",
       " #undef  #undef  #undef  #undef  #undef     #undef  #undef  #undef  #undef\n",
       " #undef  #undef  #undef  #undef  #undef     #undef  #undef  #undef  #undef\n",
       " #undef  #undef  #undef  #undef  #undef     #undef  #undef  #undef  #undef\n",
       " #undef  #undef  #undef  #undef  #undef  …  #undef  #undef  #undef  #undef"
      ]
     },
     "metadata": {},
     "output_type": "display_data"
    }
   ],
   "source": [
    "# initialize scenario path for load, solar and wind\n",
    "scen_path_load = Array{Matrix{Float64}}(undef, Tend, number_of_scenarios)\n",
    "scen_path_solar = Array{Matrix{Float64}}(undef, Tend, number_of_scenarios)\n",
    "scen_path_wind = Array{Matrix{Float64}}(undef, Tend, number_of_scenarios)"
   ]
  },
  {
   "cell_type": "code",
   "execution_count": 70,
   "id": "2b42bf9d",
   "metadata": {},
   "outputs": [
    {
     "data": {
      "text/plain": [
       "1:1:100"
      ]
     },
     "metadata": {},
     "output_type": "display_data"
    }
   ],
   "source": [
    "R = range(Tstart, 100, step=1)"
   ]
  },
  {
   "cell_type": "code",
   "execution_count": 132,
   "id": "83cc3739",
   "metadata": {},
   "outputs": [],
   "source": [
    "# for r in R[1]\n",
    "    r = 11\n",
    "    global decision_date = start_date + Dates.Hour(r - 1)\n",
    "\n",
    "    #=======================================================================\n",
    "    DEFINE DATETIMES AND FORECAST VS ACTUAL VS MODEL TIMES OR HOURS\n",
    "    =======================================================================#\n",
    "\n",
    "    horizon_start_index = findfirst(isequal(decision_date), unique_forecast_times);\n",
    "\n",
    "    current_issue = corr_forecast_issue_times[horizon_start_index, :issue_time];\n",
    "\n",
    "    issue_index = findall(x -> x == current_issue, unique_issue_times)[1];\n",
    "    # find next issue time and compare to start date\n",
    "    # next_issue = unique_issue_times[issue_index + 1];\n",
    "    # define active issues (XXX workshop name) as set of forecasts that are available for the hours to use for lookahead\n",
    "    active_issues = [current_issue];\n",
    "    # get the indices of the forecasts of the active issue times\n",
    "    current_forecast_indices = findall(x -> x in active_issues, corr_forecast_issue_times[!,:issue_time]);\n",
    "\n",
    "    # get the actual forecast times of the current forecast indices\n",
    "    current_forecast_times = corr_forecast_issue_times[current_forecast_indices, :forecast_time];\n",
    "    # get the forecast times that are after the start_data\n",
    "    forecast_times_start_incl = filter(x -> x >= decision_date, current_forecast_times);\n",
    "    # calculate the length of the forecast times after the start date\n",
    "    policy_model_length = length(forecast_times_start_incl);\n",
    "    policy_lookahead_length = policy_model_length - 1; # minus one always for the existing lookahead...\n",
    "\n",
    "    # extract the actuals from the last 48 - model_forecast_length\n",
    "    # actuals_length = 48 - policy_model_length + 1;\n",
    "    policy_actuals_length = forecast_scenario_length - policy_lookahead_length;\n",
    "\n",
    "    lookahead_decision_hours = collect(policy_actuals_length:forecast_scenario_length);\n",
    "\n",
    "    load_current_marginals = load_marginals_by_issue[issue_index];\n",
    "    solar_current_marginals = solar_marginals_by_issue[issue_index];\n",
    "    wind_current_marginals = wind_marginals_by_issue[issue_index];\n",
    "\n",
    "    number_of_scen = number_of_scenarios\n",
    "    scenario_len = forecast_scenario_length\n",
    "    date = decision_date\n",
    "    start_ind = horizon_start_index\n",
    "    active_iss = active_issues\n",
    "    corr_forc_iss_times = corr_forecast_issue_times\n",
    "    d_norm = normal_dist\n",
    "    M = M_solar\n",
    "    current_marginals = solar_current_marginals\n",
    "    landing_probabilities = solar_landing_probabilities\n",
    "    is_solar = true\n",
    "\n",
    "    ### generator setup objects\n",
    "    percentile_column_index = startswith.(names(current_marginals), \"p_\")\n",
    "\n",
    "    # establish dimension of lower triangular matrix\n",
    "    dim_M = size(M,1)\n",
    "\n",
    "    # if the lower triangular size is not the same forecast length, then assign kernel\n",
    "    if dim_M != scenario_len\n",
    "        kernel_scenario_len = dim_M\n",
    "    else\n",
    "        kernel_scenario_len = scenario_len\n",
    "    end\n",
    "\n",
    "    # get the indices of the forecasts of the active issue times\n",
    "    curr_forec_indices = findall(x -> x in active_iss, corr_forc_iss_times[!,:issue_time])\n",
    "\n",
    "    # get the actual forecast times of the current forecast indices\n",
    "    curr_forec_times = corr_forc_iss_times[curr_forec_indices, :forecast_time]\n",
    "\n",
    "    # get the forecast times that are after the start_data\n",
    "    forec_times_start_incl = filter(x -> x >= date, curr_forec_times)\n",
    "\n",
    "    # calculate the length of the forecast times after the start date\n",
    "    policy_model_len = length(forec_times_start_incl)\n",
    "    policy_lookahead_len = policy_model_len - 1\n",
    "    policy_actuals_len = scenario_len - policy_lookahead_len\n",
    "    first_forec_decision_time_hour = curr_forec_indices[1]\n",
    "    \n",
    "    forecast_decision_time_hours = collect(first_forec_decision_time_hour:first_forec_decision_time_hour+scenario_len-1)\n",
    "\n",
    "    # decision_time_sunny_hours = intersect(solar_issue_decn_time_indices, forecast_decision_time_hours)\n",
    "    policy_time_sunny_hours = solar_well_defined_cols\n",
    "\n",
    "    # find the actuals sunny hours before and at the policy start\n",
    "    kernel_actuals_policy_time_hours = policy_time_sunny_hours[policy_time_sunny_hours .<= policy_actuals_len];\n",
    "    policy_actuals_kernel_len = length(kernel_actuals_policy_time_hours);\n",
    "    policy_lookahead_kernel_len = kernel_scenario_len - policy_actuals_kernel_len;\n",
    "\n",
    "\n",
    "    # initialize the matrix for the normal random variables for the calculation of Z\n",
    "    W = Matrix{Float64}(undef, number_of_scen, kernel_scenario_len);\n",
    "    # initialize the vector for the cumulative distribution function on Z\n",
    "    cdf_Z_48 = zeros(scenario_len,1);\n",
    "\n",
    "    # initialize the matrix for the scenarios\n",
    "    Y = Matrix{Float64}(undef, number_of_scen, scenario_len)\n",
    "\n",
    "    for nscen in 1:number_of_scen\n",
    "        # nscen = 1\n",
    "        array_actual_Z = Array{Float64}(undef, kernel_scenario_len)\n",
    "        array_actual_phi = Array{Float64}(undef, kernel_scenario_len)\n",
    "\n",
    "        for k in 1:kernel_scenario_len\n",
    "            # k = 1\n",
    "            # get the issue time specific index of solar for this lookahead time\n",
    "            issue_solar_index = solar_well_defined_cols[k]\n",
    "            # print the actual solar value at this time\n",
    "            println(\"actual solar value at time \", issue_solar_index, \" is \", solar_model_data[issue_solar_index, :avg_actual])\n",
    "            # get the marginal distribution for this period in the lookahead\n",
    "            current_marginals_dist = current_marginals[issue_solar_index, percentile_column_index]\n",
    "            println(\"current marginal distribution is \", current_marginals_dist)\n",
    "            vec_current_marginals_dist = collect(current_marginals_dist)\n",
    "            ecdf_actuals = ecdf(vec_current_marginals_dist)\n",
    "\n",
    "            actual_lp_via_md = ecdf_actuals(current_marginals[issue_solar_index,:avg_actual])\n",
    "            if actual_lp_via_md  == 1\n",
    "                actual_lp_via_md  = 0.99\n",
    "            elseif actual_lp_via_md  == 0\n",
    "                actual_lp_via_md  = 0.01\n",
    "            end\n",
    "            actual_Z_via_md = quantile(d_norm, actual_lp_via_md)\n",
    "            array_actual_Z[k] = actual_Z_via_md\n",
    "        end\n",
    "\n",
    "        println(\"array actual Z is \", array_actual_Z)\n",
    "\n",
    "        W_from_actuals = inv(M) * array_actual_Z\n",
    "\n",
    "        # set the historical landing probabilities in the first columns of W\n",
    "        # W[nscen, 1:policy_actuals_len] = historical_lp; # XXX wrong\n",
    "        W[nscen, 1:policy_actuals_kernel_len] = W_from_actuals[1:policy_actuals_kernel_len]\n",
    "\n",
    "        # the rest of the columns are filled with random numbers\n",
    "        W_upd = rand(d_norm, policy_lookahead_kernel_len)\n",
    "\n",
    "        # fill the rest of the columns with random numbers\n",
    "        W[nscen, policy_actuals_kernel_len+1:end] = W_upd\n",
    "\n",
    "        W_lookahead = W[nscen, :]\n",
    "\n",
    "        Z = M * W_lookahead\n",
    "\n",
    "        cdf_Z_base = cdf.(d_norm, Z)\n",
    "\n",
    "        cdf_Z_48[solar_well_defined_cols] = cdf_Z_base\n",
    "\n",
    "        for k in 1:scenario_len\n",
    "            # k = 1\n",
    "            # marginal_id = within_forecast_sunny_hours[k];\n",
    "            # current_marginals_dist = current_marginals[marginal_id, 3:101];\n",
    "            current_marginals_dist = current_marginals[k, percentile_column_index];\n",
    "            current_actual = current_marginals[k, :avg_actual];\n",
    "            \n",
    "            # calculate \n",
    "            if k in kernel_actuals_policy_time_hours # replace policy_actuals_len with actual values\n",
    "                Y[nscen, k] = current_actual;\n",
    "                println(\"Y[nscen, k] = \", Y[nscen, k])\n",
    "            else\n",
    "                Y[nscen, k] = quantile(current_marginals_dist, cdf_Z_48[k]);\n",
    "            end\n",
    "        end\n",
    "        \n",
    "\n",
    "    \n",
    "\n",
    "    end\n",
    "\n",
    "\n",
    "\n",
    "# end\n"
   ]
  },
  {
   "cell_type": "code",
   "execution_count": 126,
   "id": "58bb217d",
   "metadata": {},
   "outputs": [
    {
     "data": {
      "text/plain": [
       "5-element Vector{Int64}:\n",
       "  7\n",
       "  8\n",
       "  9\n",
       " 10\n",
       " 11"
      ]
     },
     "metadata": {},
     "output_type": "display_data"
    }
   ],
   "source": [
    "kernel_actuals_policy_time_hours"
   ]
  },
  {
   "cell_type": "code",
   "execution_count": 128,
   "id": "3670ceec",
   "metadata": {},
   "outputs": [
    {
     "data": {
      "text/plain": [
       "11-element Vector{Float64}:\n",
       " 372.167962\n",
       " 413.6092793573537\n",
       " 283.6516708647981\n",
       " 324.07790430582645\n",
       " 464.78492959067796\n",
       " 260.4058381128092\n",
       " 449.3299825831862\n",
       " 124.99748210959908\n",
       "   0.0\n",
       "   0.0\n",
       "   0.0"
      ]
     },
     "metadata": {},
     "output_type": "display_data"
    }
   ],
   "source": [
    "Y[1,r:r+10]"
   ]
  },
  {
   "cell_type": "code",
   "execution_count": 129,
   "id": "77099034",
   "metadata": {},
   "outputs": [
    {
     "data": {
      "text/plain": [
       "11-element Vector{Float64}:\n",
       " 372.167962\n",
       " 385.1170640416667\n",
       " 429.0009835416667\n",
       " 459.20847558333327\n",
       " 429.1285791666666\n",
       " 453.4773783333333\n",
       " 312.1685460416667\n",
       "  54.33028737500001\n",
       "   0.014625\n",
       "   0.0\n",
       "   0.0"
      ]
     },
     "metadata": {},
     "output_type": "display_data"
    }
   ],
   "source": [
    "solar_model_data[r:r+10, :avg_actual]"
   ]
  },
  {
   "cell_type": "code",
   "execution_count": 134,
   "id": "9892becb",
   "metadata": {},
   "outputs": [
    {
     "data": {
      "text/plain": [
       "20×11 Matrix{Float64}:\n",
       " 372.168  453.208  480.045  473.777  …  403.49     57.1276   0.0  0.0  0.0\n",
       " 372.168  445.86   213.751  343.708     336.424    93.4282   0.0  0.0  0.0\n",
       " 372.168  420.542  335.11   334.21      101.464   137.992    0.0  0.0  0.0\n",
       " 372.168  420.873  151.588  224.683      81.2284  101.38     0.0  0.0  0.0\n",
       " 372.168  443.46   265.039  243.97      465.744   111.87     0.0  0.0  0.0\n",
       " 372.168  354.999  163.529  210.764  …  185.09      8.20364  0.0  0.0  0.0\n",
       " 372.168  437.802  301.33   201.864      65.0396   93.1774   0.0  0.0  0.0\n",
       " 372.168  418.846  287.623  440.525     465.246   164.932    0.0  0.0  0.0\n",
       " 372.168  407.561  189.819  407.158     426.868    92.1531   0.0  0.0  0.0\n",
       " 372.168  418.329  311.23   399.355     504.828   151.447    0.0  0.0  0.0\n",
       " 372.168  302.077  188.693  267.392  …  295.639    58.5149   0.0  0.0  0.0\n",
       " 372.168  310.513  264.659  388.785     491.873    69.8938   0.0  0.0  0.0\n",
       " 372.168  355.006  299.211  203.669     185.726   116.929    0.0  0.0  0.0\n",
       " 372.168  411.39   215.098  225.654     258.826    40.0473   0.0  0.0  0.0\n",
       " 372.168  452.832  455.312  476.174     401.431   133.527    0.0  0.0  0.0\n",
       " 372.168  244.153  213.47   399.395  …  510.348   148.039    0.0  0.0  0.0\n",
       " 372.168  354.686  276.974  241.299     283.675   126.341    0.0  0.0  0.0\n",
       " 372.168  356.664  297.25   244.828     292.331    25.9917   0.0  0.0  0.0\n",
       " 372.168  447.37   464.633  446.879      44.8112   15.1886   0.0  0.0  0.0\n",
       " 372.168  276.022  212.536  223.303     432.768   122.84     0.0  0.0  0.0"
      ]
     },
     "metadata": {},
     "output_type": "display_data"
    }
   ],
   "source": [
    "Y[:, r:r+10]"
   ]
  }
 ],
 "metadata": {
  "kernelspec": {
   "display_name": "Julia 1.9.4",
   "language": "julia",
   "name": "julia-1.9"
  },
  "language_info": {
   "file_extension": ".jl",
   "mimetype": "application/julia",
   "name": "julia",
   "version": "1.9.4"
  }
 },
 "nbformat": 4,
 "nbformat_minor": 5
}
