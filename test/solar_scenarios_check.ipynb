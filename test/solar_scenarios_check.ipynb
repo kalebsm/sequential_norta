{
 "cells": [
  {
   "cell_type": "code",
   "execution_count": 61,
   "id": "1883328b",
   "metadata": {},
   "outputs": [
    {
     "name": "stderr",
     "output_type": "stream",
     "text": [
      "\u001b[32m\u001b[1m  Activating\u001b[22m\u001b[39m project at `c:\\Users\\ks885\\Documents\\aa_research\\Modeling\\spcm_genx_experiment\\SPCM\\src\\scenario_generation\\sequential_norta`\n"
     ]
    }
   ],
   "source": [
    "using Revise\n",
    "using Dates\n",
    "using Distributions\n",
    "using Random\n",
    "using DataFrames\n",
    "using CSV\n",
    "using Plots\n",
    "using StatsBase\n",
    "using LinearAlgebra\n",
    "using Statistics\n",
    "import Pkg\n",
    "Pkg.activate(\"..\")\n",
    "Pkg.instantiate()\n",
    "\n",
    "using SequentialNorta"
   ]
  },
  {
   "cell_type": "code",
   "execution_count": 62,
   "id": "842ace8b",
   "metadata": {},
   "outputs": [
    {
     "name": "stdout",
     "output_type": "stream",
     "text": [
      "\u001b[36m\u001b[1mProject\u001b[22m\u001b[39m SequentialNorta v0.0.0\n",
      "\u001b[32m\u001b[1mStatus\u001b[22m\u001b[39m `C:\\Users\\ks885\\Documents\\aa_research\\Modeling\\spcm_genx_experiment\\SPCM\\src\\scenario_generation\\sequential_norta\\Project.toml`\n",
      "\u001b[32m⌃\u001b[39m \u001b[90m[336ed68f] \u001b[39mCSV v0.10.11\n",
      "\u001b[32m⌃\u001b[39m \u001b[90m[a93c6f00] \u001b[39mDataFrames v1.6.1\n",
      "  \u001b[90m[8bb1440f] \u001b[39mDelimitedFiles v1.9.1\n",
      "\u001b[32m⌃\u001b[39m \u001b[90m[31c24e10] \u001b[39mDistributions v0.25.103\n",
      "\u001b[32m⌃\u001b[39m \u001b[90m[634d3b9d] \u001b[39mDrWatson v2.13.0\n",
      "\u001b[32m⌃\u001b[39m \u001b[90m[f67ccb44] \u001b[39mHDF5 v0.17.1\n",
      "\u001b[32m⌃\u001b[39m \u001b[90m[b964fa9f] \u001b[39mLaTeXStrings v1.3.1\n",
      "\u001b[33m⌅\u001b[39m \u001b[90m[7ed4a6bd] \u001b[39mLinearSolve v2.20.0\n",
      "\u001b[32m⌃\u001b[39m \u001b[90m[91a5bcdd] \u001b[39mPlots v1.39.0\n",
      "\u001b[32m⌃\u001b[39m \u001b[90m[6f49c342] \u001b[39mRCall v0.13.18\n",
      "\u001b[33m⌅\u001b[39m \u001b[90m[2913bbd2] \u001b[39mStatsBase v0.33.21\n",
      "\u001b[32m⌃\u001b[39m \u001b[90m[9f90e835] \u001b[39mTSFrames v0.2.1\n",
      "\u001b[32m⌃\u001b[39m \u001b[90m[bd369af6] \u001b[39mTables v1.11.1\n",
      "\u001b[32m⌃\u001b[39m \u001b[90m[f269a46b] \u001b[39mTimeZones v1.13.0\n",
      "  \u001b[90m[ade2ca70] \u001b[39mDates\n",
      "  \u001b[90m[37e2e46d] \u001b[39mLinearAlgebra\n",
      "  \u001b[90m[9a3f8284] \u001b[39mRandom\n",
      "  \u001b[90m[10745b16] \u001b[39mStatistics v1.9.0\n",
      "\u001b[36m\u001b[1mInfo\u001b[22m\u001b[39m Packages marked with \u001b[32m⌃\u001b[39m and \u001b[33m⌅\u001b[39m have new versions available. Those with \u001b[32m⌃\u001b[39m may be upgradable, but those with \u001b[33m⌅\u001b[39m are restricted by compatibility constraints from upgrading. To see why use `status --outdated`\n"
     ]
    }
   ],
   "source": [
    "import Pkg\n",
    "Pkg.status()"
   ]
  },
  {
   "cell_type": "code",
   "execution_count": 63,
   "id": "0623a888",
   "metadata": {},
   "outputs": [
    {
     "name": "stdout",
     "output_type": "stream",
     "text": [
      "names(SequentialNorta; all = true) = [Symbol(\"#1#2\"), Symbol(\"#10#17\"), Symbol(\"#11#18\"), Symbol(\"#12#19\"), Symbol(\"#13#20\"), Symbol(\"#21#28\"), Symbol(\"#22#29\"), Symbol(\"#23#30\"), Symbol(\"#24#31\"), Symbol(\"#25#32\"), Symbol(\"#26#33\"), Symbol(\"#27#34\"), Symbol(\"#3#5\"), Symbol(\"#35#42\"), Symbol(\"#36#43\"), Symbol(\"#37#44\"), Symbol(\"#38#45\"), Symbol(\"#39#46\"), Symbol(\"#4#6\"), Symbol(\"#40#47\"), Symbol(\"#41#48\"), Symbol(\"#49#56\"), Symbol(\"#50#57\"), Symbol(\"#51#58\"), Symbol(\"#52#59\"), Symbol(\"#53#60\"), Symbol(\"#54#61\"), Symbol(\"#55#62\"), Symbol(\"#63#70\"), Symbol(\"#64#71\"), Symbol(\"#65#72\"), Symbol(\"#66#73\"), Symbol(\"#67#74\"), Symbol(\"#68#75\"), Symbol(\"#69#76\"), Symbol(\"#7#14\"), Symbol(\"#77#84\"), Symbol(\"#78#85\"), Symbol(\"#79#86\"), Symbol(\"#8#15\"), Symbol(\"#80#87\"), Symbol(\"#81#88\"), Symbol(\"#82#89\"), Symbol(\"#83#90\"), Symbol(\"#9#16\"), Symbol(\"#91#98\"), Symbol(\"#92#99\"), Symbol(\"#93#100\"), Symbol(\"#94#101\"), Symbol(\"#95#102\"), Symbol(\"#96#103\"), Symbol(\"#97#104\"), Symbol(\"#bind_historical_forecast\"), Symbol(\"#compute_hourly_average_actuals\"), Symbol(\"#compute_landing_probability\"), Symbol(\"#convert_ISO_standard\"), Symbol(\"#convert_hours_2018\"), Symbol(\"#convert_land_prob_to_data\"), Symbol(\"#eval\"), Symbol(\"#generate_lower_triangular_correlation\"), Symbol(\"#generate_norta_scenarios\"), Symbol(\"#generate_probability_scenarios\"), Symbol(\"#include\"), Symbol(\"#read_h5_file\"), Symbol(\"#read_input_file\"), Symbol(\"#scenario_generator_init\"), Symbol(\"#transform_landing_probability\"), Symbol(\"#write_percentiles\"), :SequentialNorta, :bind_historical_forecast, :compute_hourly_average_actuals, :compute_landing_probability, :convert_ISO_standard, :convert_hours_2018, :convert_land_prob_to_data, :eval, :fct_compute_hourly_average_actuals, :generate_lower_triangular_correlation, :generate_norta_scenarios, :generate_probability_scenarios, :include, :read_h5_file, :read_input_file, :scenario_generator_init, :transform_landing_probability, :write_percentiles]\n"
     ]
    },
    {
     "data": {
      "text/plain": [
       "86-element Vector{Symbol}:\n",
       " Symbol(\"#1#2\")\n",
       " Symbol(\"#10#17\")\n",
       " Symbol(\"#11#18\")\n",
       " Symbol(\"#12#19\")\n",
       " Symbol(\"#13#20\")\n",
       " Symbol(\"#21#28\")\n",
       " Symbol(\"#22#29\")\n",
       " Symbol(\"#23#30\")\n",
       " Symbol(\"#24#31\")\n",
       " Symbol(\"#25#32\")\n",
       " ⋮\n",
       " :generate_lower_triangular_correlation\n",
       " :generate_norta_scenarios\n",
       " :generate_probability_scenarios\n",
       " :include\n",
       " :read_h5_file\n",
       " :read_input_file\n",
       " :scenario_generator_init\n",
       " :transform_landing_probability\n",
       " :write_percentiles"
      ]
     },
     "metadata": {},
     "output_type": "display_data"
    }
   ],
   "source": [
    "@show names(SequentialNorta; all=true)"
   ]
  },
  {
   "cell_type": "code",
   "execution_count": 64,
   "id": "4618e900",
   "metadata": {},
   "outputs": [
    {
     "data": {
      "text/plain": [
       "Dict{Any, Any} with 23 entries:\n",
       "  \"solar_actual_avg_cf\"         => [0.0, 0.0, 0.0, 0.0, 0.0, 0.0, 0.0, 0.010627…\n",
       "  \"wind_marginals_by_issue\"     => DataFrame[\u001b[1m48×103 DataFrame\u001b[0m\u001b[0m…\n",
       "  \"load_landing_probabilities\"  => [0.888889, 0.585859, 0.545455, 0.505051, 0.2…\n",
       "  \"solar_actual_avg\"            => \u001b[1m8760×2 DataFrame\u001b[0m\u001b[0m…\n",
       "  \"load_marginals_by_issue\"     => DataFrame[\u001b[1m48×103 DataFrame\u001b[0m\u001b[0m…\n",
       "  \"unique_forecast_times\"       => [DateTime(\"2018-01-01T00:00:00\"), DateTime(\"…\n",
       "  \"M_load\"                      => [1.0 0.0 … 0.0 0.0; 0.860519 0.509419 … 0.0 …\n",
       "  \"solar_landing_probabilities\" => [0.99, 0.99, 0.99, 0.99, 0.99, 0.99, 0.99, 0…\n",
       "  \"forecast_scenario_length\"    => 48\n",
       "  \"wind_landing_probabilities\"  => [0.606061, 0.707071, 0.868687, 0.636364, 0.8…\n",
       "  \"sunny_decision_hours\"        => [7, 8, 9, 10, 11, 12, 13, 14, 15, 16  …  872…\n",
       "  \"load_actual_avg\"             => \u001b[1m8760×2 DataFrame\u001b[0m\u001b[0m…\n",
       "  \"corr_forecast_issue_times\"   => \u001b[1m17424×2 DataFrame\u001b[0m\u001b[0m…\n",
       "  \"unique_issue_times\"          => [DateTime(\"2017-12-31T12:00:00\"), DateTime(\"…\n",
       "  \"M_solar\"                     => [1.0 0.0 … 0.0 0.0; 0.238126 0.971234 … 0.0 …\n",
       "  \"start_date\"                  => DateTime(\"2018-01-01T00:00:00\")\n",
       "  \"M_wind\"                      => [1.0 0.0 … 0.0 0.0; 0.53953 0.841966 … 0.0 0…\n",
       "  \"wind_actual_avg\"             => \u001b[1m8760×2 DataFrame\u001b[0m\u001b[0m…\n",
       "  \"wind_actual_avg_cf\"          => [0.359188, 0.341952, 0.327147, 0.321044, 0.3…\n",
       "  ⋮                             => ⋮"
      ]
     },
     "metadata": {},
     "output_type": "display_data"
    }
   ],
   "source": [
    "scen_generator = scenario_generator_init()"
   ]
  },
  {
   "cell_type": "code",
   "execution_count": 65,
   "id": "8697b7c8",
   "metadata": {},
   "outputs": [],
   "source": [
    "# Save the objects from scen_generator into individual variables\n",
    "unique_forecast_times = scen_generator[\"unique_forecast_times\"]\n",
    "unique_issue_times = scen_generator[\"unique_issue_times\"]\n",
    "start_date = scen_generator[\"start_date\"]\n",
    "corr_forecast_issue_times = scen_generator[\"corr_forecast_issue_times\"]\n",
    "forecast_scenario_length = scen_generator[\"forecast_scenario_length\"]\n",
    "number_of_scenarios = scen_generator[\"number_of_scenarios\"]\n",
    "M_load = scen_generator[\"M_load\"]\n",
    "M_solar = scen_generator[\"M_solar\"]\n",
    "M_wind = scen_generator[\"M_wind\"]\n",
    "load_marginals_by_issue = scen_generator[\"load_marginals_by_issue\"]\n",
    "solar_marginals_by_issue = scen_generator[\"solar_marginals_by_issue\"]\n",
    "wind_marginals_by_issue = scen_generator[\"wind_marginals_by_issue\"]\n",
    "load_landing_probabilities = scen_generator[\"load_landing_probabilities\"]\n",
    "solar_landing_probabilities = scen_generator[\"solar_landing_probabilities\"]\n",
    "wind_landing_probabilities = scen_generator[\"wind_landing_probabilities\"]\n",
    "load_actual_avg = scen_generator[\"load_actual_avg\"]\n",
    "solar_actual_avg = scen_generator[\"solar_actual_avg\"]\n",
    "wind_actual_avg = scen_generator[\"wind_actual_avg\"]\n",
    "sunny_decision_hours = scen_generator[\"sunny_decision_hours\"]\n",
    "load_actual_avg_GW = scen_generator[\"load_actual_avg_GW\"]\n",
    "solar_actual_avg_cf = scen_generator[\"solar_actual_avg_cf\"]\n",
    "wind_actual_avg_cf = scen_generator[\"wind_actual_avg_cf\"]\n",
    "decision_mdl_lkd_length = scen_generator[\"decision_mdl_lkd_length\"];"
   ]
  },
  {
   "cell_type": "markdown",
   "id": "e00c6399",
   "metadata": {},
   "source": [
    "intialize other important parameters for rolling horizon"
   ]
  },
  {
   "cell_type": "code",
   "execution_count": null,
   "id": "a648e387",
   "metadata": {},
   "outputs": [],
   "source": [
    "# initialize the start date\n",
    "start_date = DateTime(string(scenario_year) * \"-\" * string(scenario_month) * \"-\" * string(scenario_day) * \"T\" * string(scenario_hour));\n",
    "\n",
    "# Set the date and time for the forecasts\n",
    "start_index = findfirst(isequal(start_date), unique_forecast_times)\n",
    "\n",
    "Tstart = start_index;\n",
    "Tend = decision_mdl_lkd_length - 50; # should be -48 probablys\n",
    "\n",
    "# Initialize Locked Scenario Path Information\n",
    "scen_path = Array{Any}(undef, Tend)\n",
    "\n",
    "Random.seed!(12345);\n",
    "# intialize normal distribution\n",
    "normal_dist = Normal(0,1);"
   ]
  },
  {
   "cell_type": "markdown",
   "id": "5cda158b",
   "metadata": {},
   "source": [
    "In each of the sunny decision hours, check how the actual compares to the generated value."
   ]
  },
  {
   "cell_type": "code",
   "execution_count": 104,
   "id": "cf2fd689",
   "metadata": {},
   "outputs": [
    {
     "data": {
      "text/plain": [
       "20×39 Matrix{Float64}:\n",
       " 4054.98  2384.23  2759.81  2075.93  …  2120.62  3187.92  3017.78  5327.38\n",
       " 4054.98  3772.71  3471.37  2346.97     3222.33  3133.4   3538.7   4896.01\n",
       " 4054.98  3459.47  2662.54  1991.22     2728.31  3783.91  4187.81  5923.2\n",
       " 4054.98  2665.81  2186.06  1643.59     3215.46  2940.99  4304.77  5243.66\n",
       " 4054.98  2604.34  2919.06  2132.36     3644.96  3931.98  5615.65  5517.13\n",
       " 4054.98  3530.39  2720.43  1967.32  …  2291.72  2709.48  3658.96  5782.12\n",
       " 4054.98  3665.14  3231.38  2373.89     3287.15  3420.52  4170.26  5431.39\n",
       " 4054.98  3798.82  2651.04  2268.81     3152.95  3770.01  5025.2   4425.47\n",
       " 4054.98  3342.2   1977.27  1346.18     2897.28  3344.19  4306.67  5686.71\n",
       " 4054.98  3408.06  2329.33  2023.85     3271.16  3707.92  4790.04  5098.41\n",
       " 4054.98  3911.48  2638.16  1633.74  …  3642.33  3341.79  5239.61  6744.79\n",
       " 4054.98  3666.01  2658.54  2019.5      3726.69  3999.78  4995.41  5628.19\n",
       " 4054.98  3814.23  2303.05  1505.48     2902.22  3736.33  4721.78  6760.1\n",
       " 4054.98  3528.91  2875.94  2075.93     3289.03  3028.58  4822.21  5081.34\n",
       " 4054.98  3665.99  3086.95  2232.18     3566.28  3925.48  5575.79  6428.13\n",
       " 4054.98  3988.76  3024.58  2014.56  …  2926.0   3319.25  4277.18  6370.01\n",
       " 4054.98  3771.82  2363.61  2194.43     2742.09  3327.71  4960.06  5835.01\n",
       " 4054.98  2689.03  2020.71  1361.01     3729.31  3923.22  5533.95  6626.35\n",
       " 4054.98  3985.98  3530.44  2427.18     3225.85  3133.32  4714.38  5328.22\n",
       " 4054.98  3979.01  3087.36  1888.25     3283.33  3908.85  5392.98  5618.0"
      ]
     },
     "metadata": {},
     "output_type": "display_data"
    }
   ],
   "source": [
    "r = 10\n",
    "\n",
    "global decision_date = start_date + Dates.Hour(r - 1)\n",
    "\n",
    "#=======================================================================\n",
    "DEFINE DATETIMES AND FORECAST VS ACTUAL VS MODEL TIMES OR HOURS\n",
    "=======================================================================#\n",
    "\n",
    "horizon_start_index = findfirst(isequal(decision_date), unique_forecast_times);\n",
    "\n",
    "current_issue = corr_forecast_issue_times[horizon_start_index, :issue_time];\n",
    "\n",
    "issue_index = findall(x -> x == current_issue, unique_issue_times)[1];\n",
    "# find next issue time and compare to start date\n",
    "# next_issue = unique_issue_times[issue_index + 1];\n",
    "# define active issues (XXX workshop name) as set of forecasts that are available for the hours to use for lookahead\n",
    "active_issues = [current_issue];\n",
    "# get the indices of the forecasts of the active issue times\n",
    "current_forecast_indices = findall(x -> x in active_issues, corr_forecast_issue_times[!,:issue_time]);\n",
    "\n",
    "# get the actual forecast times of the current forecast indices\n",
    "current_forecast_times = corr_forecast_issue_times[current_forecast_indices, :forecast_time];\n",
    "# get the forecast times that are after the start_data\n",
    "forecast_times_start_incl = filter(x -> x >= decision_date, current_forecast_times);\n",
    "# calculate the length of the forecast times after the start date\n",
    "policy_model_length = length(forecast_times_start_incl);\n",
    "policy_lookahead_length = policy_model_length - 1; # minus one always for the existing lookahead...\n",
    "\n",
    "# extract the actuals from the last 48 - model_forecast_length\n",
    "# actuals_length = 48 - policy_model_length + 1;\n",
    "policy_actuals_length = forecast_scenario_length - policy_lookahead_length;\n",
    "\n",
    "lookahead_decision_hours = collect(policy_actuals_length:forecast_scenario_length);\n",
    "\n",
    "load_current_marginals = load_marginals_by_issue[issue_index];\n",
    "    solar_current_marginals = solar_marginals_by_issue[issue_index];\n",
    "    wind_current_marginals = wind_marginals_by_issue[issue_index];\n",
    "    #=======================================================================\n",
    "    GENERATE SCENARIOS FOR LOAD, SOLAR, AND WIND\n",
    "    =======================================================================#\n",
    "    Y_load =  generate_norta_scenarios(number_of_scenarios, forecast_scenario_length, decision_date, horizon_start_index, \n",
    "                                        active_issues, corr_forecast_issue_times, normal_dist,  \n",
    "                                        M_load, load_current_marginals, load_landing_probabilities,\n",
    "                                        sunny_decision_hours, false)\n",
    "\n",
    "    Y_solar = generate_norta_scenarios(number_of_scenarios, forecast_scenario_length, decision_date, horizon_start_index, \n",
    "                                        active_issues, corr_forecast_issue_times, normal_dist,  \n",
    "                                        M_solar, solar_current_marginals, solar_landing_probabilities,\n",
    "                                        sunny_decision_hours, true)\n",
    "\n",
    "    Y_wind = generate_norta_scenarios(number_of_scenarios, forecast_scenario_length, decision_date, horizon_start_index, \n",
    "                                        active_issues, corr_forecast_issue_times, normal_dist,  \n",
    "                                        M_wind, wind_current_marginals, wind_landing_probabilities,\n",
    "                                        sunny_decision_hours, false)"
   ]
  },
  {
   "cell_type": "code",
   "execution_count": 105,
   "id": "f14995ef",
   "metadata": {},
   "outputs": [
    {
     "data": {
      "text/plain": [
       "5106-element Vector{Int64}:\n",
       "    7\n",
       "    8\n",
       "    9\n",
       "   10\n",
       "   11\n",
       "   12\n",
       "   13\n",
       "   14\n",
       "   15\n",
       "   16\n",
       "    ⋮\n",
       " 8728\n",
       " 8729\n",
       " 8730\n",
       " 8731\n",
       " 8732\n",
       " 8733\n",
       " 8734\n",
       " 8735\n",
       " 8736"
      ]
     },
     "metadata": {},
     "output_type": "display_data"
    }
   ],
   "source": [
    "sunny_decision_hours"
   ]
  },
  {
   "cell_type": "code",
   "execution_count": 106,
   "id": "ce0d6737",
   "metadata": {},
   "outputs": [
    {
     "data": {
      "text/plain": [
       "2018-01-01T09:00:00"
      ]
     },
     "metadata": {},
     "output_type": "display_data"
    }
   ],
   "source": [
    "decision_date"
   ]
  },
  {
   "cell_type": "code",
   "execution_count": 109,
   "id": "87181640",
   "metadata": {},
   "outputs": [
    {
     "data": {
      "text/html": [
       "<div><div style = \"float: left;\"><span>14×2 DataFrame</span></div><div style = \"clear: both;\"></div></div><div class = \"data-frame\" style = \"overflow-x: scroll;\"><table class = \"data-frame\" style = \"margin-bottom: 6px;\"><thead><tr class = \"header\"><th class = \"rowNumber\" style = \"font-weight: bold; text-align: right;\">Row</th><th style = \"text-align: left;\">time_index</th><th style = \"text-align: left;\">avg_actual</th></tr><tr class = \"subheader headerLastRow\"><th class = \"rowNumber\" style = \"font-weight: bold; text-align: right;\"></th><th title = \"DateTime\" style = \"text-align: left;\">DateTime</th><th title = \"Float64\" style = \"text-align: left;\">Float64</th></tr></thead><tbody><tr><td class = \"rowNumber\" style = \"font-weight: bold; text-align: right;\">1</td><td style = \"text-align: left;\">2018-01-01T00:00:00</td><td style = \"text-align: right;\">0.0</td></tr><tr><td class = \"rowNumber\" style = \"font-weight: bold; text-align: right;\">2</td><td style = \"text-align: left;\">2018-01-01T01:00:00</td><td style = \"text-align: right;\">0.0</td></tr><tr><td class = \"rowNumber\" style = \"font-weight: bold; text-align: right;\">3</td><td style = \"text-align: left;\">2018-01-01T02:00:00</td><td style = \"text-align: right;\">0.0</td></tr><tr><td class = \"rowNumber\" style = \"font-weight: bold; text-align: right;\">4</td><td style = \"text-align: left;\">2018-01-01T03:00:00</td><td style = \"text-align: right;\">0.0</td></tr><tr><td class = \"rowNumber\" style = \"font-weight: bold; text-align: right;\">5</td><td style = \"text-align: left;\">2018-01-01T04:00:00</td><td style = \"text-align: right;\">0.0</td></tr><tr><td class = \"rowNumber\" style = \"font-weight: bold; text-align: right;\">6</td><td style = \"text-align: left;\">2018-01-01T05:00:00</td><td style = \"text-align: right;\">0.0</td></tr><tr><td class = \"rowNumber\" style = \"font-weight: bold; text-align: right;\">7</td><td style = \"text-align: left;\">2018-01-01T06:00:00</td><td style = \"text-align: right;\">0.0</td></tr><tr><td class = \"rowNumber\" style = \"font-weight: bold; text-align: right;\">8</td><td style = \"text-align: left;\">2018-01-01T07:00:00</td><td style = \"text-align: right;\">6.91694</td></tr><tr><td class = \"rowNumber\" style = \"font-weight: bold; text-align: right;\">9</td><td style = \"text-align: left;\">2018-01-01T08:00:00</td><td style = \"text-align: right;\">135.23</td></tr><tr><td class = \"rowNumber\" style = \"font-weight: bold; text-align: right;\">10</td><td style = \"text-align: left;\">2018-01-01T09:00:00</td><td style = \"text-align: right;\">345.787</td></tr><tr><td class = \"rowNumber\" style = \"font-weight: bold; text-align: right;\">11</td><td style = \"text-align: left;\">2018-01-01T10:00:00</td><td style = \"text-align: right;\">372.168</td></tr><tr><td class = \"rowNumber\" style = \"font-weight: bold; text-align: right;\">12</td><td style = \"text-align: left;\">2018-01-01T11:00:00</td><td style = \"text-align: right;\">385.117</td></tr><tr><td class = \"rowNumber\" style = \"font-weight: bold; text-align: right;\">13</td><td style = \"text-align: left;\">2018-01-01T12:00:00</td><td style = \"text-align: right;\">429.001</td></tr><tr><td class = \"rowNumber\" style = \"font-weight: bold; text-align: right;\">14</td><td style = \"text-align: left;\">2018-01-01T13:00:00</td><td style = \"text-align: right;\">459.208</td></tr></tbody></table></div>"
      ],
      "text/latex": [
       "\\begin{tabular}{r|cc}\n",
       "\t& time\\_index & avg\\_actual\\\\\n",
       "\t\\hline\n",
       "\t& DateTime & Float64\\\\\n",
       "\t\\hline\n",
       "\t1 & 2018-01-01T00:00:00 & 0.0 \\\\\n",
       "\t2 & 2018-01-01T01:00:00 & 0.0 \\\\\n",
       "\t3 & 2018-01-01T02:00:00 & 0.0 \\\\\n",
       "\t4 & 2018-01-01T03:00:00 & 0.0 \\\\\n",
       "\t5 & 2018-01-01T04:00:00 & 0.0 \\\\\n",
       "\t6 & 2018-01-01T05:00:00 & 0.0 \\\\\n",
       "\t7 & 2018-01-01T06:00:00 & 0.0 \\\\\n",
       "\t8 & 2018-01-01T07:00:00 & 6.91694 \\\\\n",
       "\t9 & 2018-01-01T08:00:00 & 135.23 \\\\\n",
       "\t10 & 2018-01-01T09:00:00 & 345.787 \\\\\n",
       "\t11 & 2018-01-01T10:00:00 & 372.168 \\\\\n",
       "\t12 & 2018-01-01T11:00:00 & 385.117 \\\\\n",
       "\t13 & 2018-01-01T12:00:00 & 429.001 \\\\\n",
       "\t14 & 2018-01-01T13:00:00 & 459.208 \\\\\n",
       "\\end{tabular}\n"
      ],
      "text/plain": [
       "\u001b[1m14×2 DataFrame\u001b[0m\n",
       "\u001b[1m Row \u001b[0m│\u001b[1m time_index          \u001b[0m\u001b[1m avg_actual \u001b[0m\n",
       "     │\u001b[90m DateTime            \u001b[0m\u001b[90m Float64    \u001b[0m\n",
       "─────┼─────────────────────────────────\n",
       "   1 │ 2018-01-01T00:00:00     0.0\n",
       "   2 │ 2018-01-01T01:00:00     0.0\n",
       "   3 │ 2018-01-01T02:00:00     0.0\n",
       "   4 │ 2018-01-01T03:00:00     0.0\n",
       "   5 │ 2018-01-01T04:00:00     0.0\n",
       "   6 │ 2018-01-01T05:00:00     0.0\n",
       "   7 │ 2018-01-01T06:00:00     0.0\n",
       "   8 │ 2018-01-01T07:00:00     6.91694\n",
       "   9 │ 2018-01-01T08:00:00   135.23\n",
       "  10 │ 2018-01-01T09:00:00   345.787\n",
       "  11 │ 2018-01-01T10:00:00   372.168\n",
       "  12 │ 2018-01-01T11:00:00   385.117\n",
       "  13 │ 2018-01-01T12:00:00   429.001\n",
       "  14 │ 2018-01-01T13:00:00   459.208"
      ]
     },
     "metadata": {},
     "output_type": "display_data"
    }
   ],
   "source": [
    "solar_actual_avg[7:20, :]"
   ]
  },
  {
   "cell_type": "code",
   "execution_count": 108,
   "id": "ab967cc2",
   "metadata": {},
   "outputs": [
    {
     "data": {
      "text/plain": [
       "20×16 Matrix{Float64}:\n",
       " 388.919  283.572  272.861  259.122   …  0.0  0.0  0.0  0.0  0.0  0.0  0.0\n",
       " 388.919  343.655  406.206  441.976      0.0  0.0  0.0  0.0  0.0  0.0  0.0\n",
       " 388.919  463.583  318.0    139.106      0.0  0.0  0.0  0.0  0.0  0.0  0.0\n",
       " 388.919  361.224  330.133  276.964      0.0  0.0  0.0  0.0  0.0  0.0  0.0\n",
       " 388.919  463.532  360.887  123.105      0.0  0.0  0.0  0.0  0.0  0.0  0.0\n",
       " 388.919  462.947  421.855  445.511   …  0.0  0.0  0.0  0.0  0.0  0.0  0.0\n",
       " 388.919  361.873  323.707  290.933      0.0  0.0  0.0  0.0  0.0  0.0  0.0\n",
       " 388.919  440.528  337.43   457.926      0.0  0.0  0.0  0.0  0.0  0.0  0.0\n",
       " 388.919  295.35   336.709  281.327      0.0  0.0  0.0  0.0  0.0  0.0  0.0\n",
       " 388.919  463.123  446.496  392.901      0.0  0.0  0.0  0.0  0.0  0.0  0.0\n",
       " 388.919  460.222  360.731  456.168   …  0.0  0.0  0.0  0.0  0.0  0.0  0.0\n",
       " 388.919  452.428  453.958  468.764      0.0  0.0  0.0  0.0  0.0  0.0  0.0\n",
       " 388.919  442.702  422.302   56.5458     0.0  0.0  0.0  0.0  0.0  0.0  0.0\n",
       " 388.919  459.33   399.967  405.687      0.0  0.0  0.0  0.0  0.0  0.0  0.0\n",
       " 388.919  366.892  231.836  365.761      0.0  0.0  0.0  0.0  0.0  0.0  0.0\n",
       " 388.919  461.344  444.738  469.078   …  0.0  0.0  0.0  0.0  0.0  0.0  0.0\n",
       " 388.919  499.8    446.371  452.692      0.0  0.0  0.0  0.0  0.0  0.0  0.0\n",
       " 388.919  452.293  405.729  290.23       0.0  0.0  0.0  0.0  0.0  0.0  0.0\n",
       " 388.919  479.243  453.942  407.225      0.0  0.0  0.0  0.0  0.0  0.0  0.0\n",
       " 388.919  364.684  360.248  455.757      0.0  0.0  0.0  0.0  0.0  0.0  0.0"
      ]
     },
     "metadata": {},
     "output_type": "display_data"
    }
   ],
   "source": [
    "Y_solar[:, 1:16]"
   ]
  }
 ],
 "metadata": {
  "kernelspec": {
   "display_name": "Julia 1.9.4",
   "language": "julia",
   "name": "julia-1.9"
  },
  "language_info": {
   "file_extension": ".jl",
   "mimetype": "application/julia",
   "name": "julia",
   "version": "1.9.4"
  }
 },
 "nbformat": 4,
 "nbformat_minor": 5
}
